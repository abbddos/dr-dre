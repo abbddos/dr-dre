{
 "cells": [
  {
   "cell_type": "code",
   "execution_count": 1,
   "id": "d1183790-fbbe-40d4-95ab-97b5bfc3fda6",
   "metadata": {},
   "outputs": [],
   "source": [
    "import pandas as pd"
   ]
  },
  {
   "cell_type": "code",
   "execution_count": 27,
   "id": "8568bc34-71a6-4273-8358-f27894080c7f",
   "metadata": {},
   "outputs": [
    {
     "data": {
      "text/html": [
       "<div>\n",
       "<style scoped>\n",
       "    .dataframe tbody tr th:only-of-type {\n",
       "        vertical-align: middle;\n",
       "    }\n",
       "\n",
       "    .dataframe tbody tr th {\n",
       "        vertical-align: top;\n",
       "    }\n",
       "\n",
       "    .dataframe thead th {\n",
       "        text-align: right;\n",
       "    }\n",
       "</style>\n",
       "<table border=\"1\" class=\"dataframe\">\n",
       "  <thead>\n",
       "    <tr style=\"text-align: right;\">\n",
       "      <th></th>\n",
       "      <th>id</th>\n",
       "      <th>code</th>\n",
       "      <th>description</th>\n",
       "      <th>start_date</th>\n",
       "      <th>end_date</th>\n",
       "      <th>status</th>\n",
       "      <th>department</th>\n",
       "      <th>team</th>\n",
       "      <th>customer</th>\n",
       "    </tr>\n",
       "  </thead>\n",
       "  <tbody>\n",
       "    <tr>\n",
       "      <th>0</th>\n",
       "      <td>1</td>\n",
       "      <td>JB1</td>\n",
       "      <td>Paint job for James Hetfield's Cadillac</td>\n",
       "      <td>2021-08-20</td>\n",
       "      <td>2021-08-28</td>\n",
       "      <td>Canceled</td>\n",
       "      <td>{'id': 2, 'dep_code': 'BDY', 'dep_name': 'Body...</td>\n",
       "      <td>{'id': 3, 'team_code': 'BDY_PNT_', 'team_name'...</td>\n",
       "      <td>{'id': 1, 'name': 'James Hetfield', 'email': '...</td>\n",
       "    </tr>\n",
       "    <tr>\n",
       "      <th>1</th>\n",
       "      <td>2</td>\n",
       "      <td>JB2</td>\n",
       "      <td>Welding the KH cadillac chasis</td>\n",
       "      <td>2021-08-21</td>\n",
       "      <td>None</td>\n",
       "      <td>Scheduled</td>\n",
       "      <td>{'id': 2, 'dep_code': 'BDY', 'dep_name': 'Body...</td>\n",
       "      <td>{'id': 4, 'team_code': 'BDY_WLD_1', 'team_name...</td>\n",
       "      <td>{'id': 2, 'name': 'Kirk Hammet', 'email': 'k.h...</td>\n",
       "    </tr>\n",
       "  </tbody>\n",
       "</table>\n",
       "</div>"
      ],
      "text/plain": [
       "   id code                              description  start_date    end_date  \\\n",
       "0   1  JB1  Paint job for James Hetfield's Cadillac  2021-08-20  2021-08-28   \n",
       "1   2  JB2           Welding the KH cadillac chasis  2021-08-21        None   \n",
       "\n",
       "      status                                         department  \\\n",
       "0   Canceled  {'id': 2, 'dep_code': 'BDY', 'dep_name': 'Body...   \n",
       "1  Scheduled  {'id': 2, 'dep_code': 'BDY', 'dep_name': 'Body...   \n",
       "\n",
       "                                                team  \\\n",
       "0  {'id': 3, 'team_code': 'BDY_PNT_', 'team_name'...   \n",
       "1  {'id': 4, 'team_code': 'BDY_WLD_1', 'team_name...   \n",
       "\n",
       "                                            customer  \n",
       "0  {'id': 1, 'name': 'James Hetfield', 'email': '...  \n",
       "1  {'id': 2, 'name': 'Kirk Hammet', 'email': 'k.h...  "
      ]
     },
     "execution_count": 27,
     "metadata": {},
     "output_type": "execute_result"
    }
   ],
   "source": [
    "df = pd.read_json('http://localhost:8000/dre_jobs/GetAllJobs/')\n",
    "df"
   ]
  },
  {
   "cell_type": "code",
   "execution_count": 42,
   "id": "cf3ac28f-e4f1-44ff-80ab-e15818cce7bf",
   "metadata": {},
   "outputs": [],
   "source": [
    "df1 = pd.DataFrame()\n",
    "df1['id'] = df.id\n",
    "df1['Code'] = df.code\n",
    "df1['Description'] = df.description\n",
    "df1['Start Date'] = df.start_date\n",
    "df1['End Date'] = df.end_date\n",
    "df1['Status'] = df.status\n",
    "deps = []\n",
    "tems = []\n",
    "cust = []\n",
    "ride = []\n",
    "for i in range(len(df)):\n",
    "    deps.append(df['department'][i]['dep_name'])\n",
    "    tems.append(df['team'][i]['team_name'])\n",
    "    cust.append(df['customer'][i]['name'])\n",
    "    ride.append(df['customer'][i]['ride'])\n",
    "df1['Department'] = deps\n",
    "df1['Team'] = tems\n",
    "df1['Customer'] = cust\n",
    "df1['Ride'] = ride\n",
    "\n",
    "df1.to_excel('Job data.xlsx')"
   ]
  },
  {
   "cell_type": "code",
   "execution_count": 26,
   "id": "991d57df-5d67-47d6-978c-0cac18064900",
   "metadata": {},
   "outputs": [],
   "source": [
    "df1.to_excel('job data.xlsx', encoding = 'utf8')"
   ]
  },
  {
   "cell_type": "code",
   "execution_count": 35,
   "id": "420318b5-b4bb-4cc9-9afc-172cc9766c08",
   "metadata": {},
   "outputs": [
    {
     "name": "stdout",
     "output_type": "stream",
     "text": [
      "James Hetfield\n",
      "Kirk Hammet\n"
     ]
    }
   ],
   "source": [
    "for i in range(len(df)):\n",
    "    print(df['customer'][i]['name'])"
   ]
  },
  {
   "cell_type": "code",
   "execution_count": null,
   "id": "0a8eb917-7506-4dbf-b7b3-98fbbfcbf189",
   "metadata": {},
   "outputs": [],
   "source": []
  }
 ],
 "metadata": {
  "kernelspec": {
   "display_name": "Python 3",
   "language": "python",
   "name": "python3"
  },
  "language_info": {
   "codemirror_mode": {
    "name": "ipython",
    "version": 3
   },
   "file_extension": ".py",
   "mimetype": "text/x-python",
   "name": "python",
   "nbconvert_exporter": "python",
   "pygments_lexer": "ipython3",
   "version": "3.9.5"
  }
 },
 "nbformat": 4,
 "nbformat_minor": 5
}
